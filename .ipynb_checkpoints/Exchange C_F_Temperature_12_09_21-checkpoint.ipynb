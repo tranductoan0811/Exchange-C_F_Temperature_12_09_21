{
 "cells": [
  {
   "cell_type": "code",
   "execution_count": 12,
   "id": "fdb06f54",
   "metadata": {},
   "outputs": [
    {
     "name": "stdout",
     "output_type": "stream",
     "text": [
      " Enter Celsius Temperature : 39\n",
      " Fahrenheit Temperature after exchange is :  102.2\n"
     ]
    }
   ],
   "source": [
    "#Chuyển đổi độ C sang độ F, sử dụng công thức:  F = 9/5 x C + 32 = 1.8 x C + 32\n",
    "#Nhập biến nhiệt độ C, kiển biến decimal(float)\n",
    "nhiet_c=float(input(\" Enter Celsius Temperature : \"))\n",
    "Quydoi_nhietF=round(1.8*nhiet_c+32,2)\n",
    "print(\" Fahrenheit Temperature after exchange is : \",Quydoi_nhietF)"
   ]
  },
  {
   "cell_type": "code",
   "execution_count": 10,
   "id": "a6d6b0ce",
   "metadata": {},
   "outputs": [
    {
     "name": "stdout",
     "output_type": "stream",
     "text": [
      " Enter Fahrenheit Temperatue : 100\n",
      " Censius Temperature after exchange is :  37.78\n"
     ]
    }
   ],
   "source": [
    "#Chuyển đổi độ F sang độ C, sử dụng công thức:   C = 5/9*( F-32 ) = ( F-32 )/(9/5) = ( F-32 )/1.8\n",
    "#Nhập biến nhiệt độ C, kiển biến interger(int)\n",
    "nhiet_f=int(input(\" Enter Fahrenheit Temperatue : \"))\n",
    "Quydoi_nhietc=round((nhiet_f-32)/1.8,2)\n",
    "print(\" Censius Temperature after exchange is : \",Quydoi_nhietc)"
   ]
  }
 ],
 "metadata": {
  "kernelspec": {
   "display_name": "Python 3 (ipykernel)",
   "language": "python",
   "name": "python3"
  },
  "language_info": {
   "codemirror_mode": {
    "name": "ipython",
    "version": 3
   },
   "file_extension": ".py",
   "mimetype": "text/x-python",
   "name": "python",
   "nbconvert_exporter": "python",
   "pygments_lexer": "ipython3",
   "version": "3.9.6"
  }
 },
 "nbformat": 4,
 "nbformat_minor": 5
}
